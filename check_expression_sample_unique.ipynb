{
 "cells": [
  {
   "cell_type": "code",
   "execution_count": 1,
   "id": "782ea865-72df-4f30-bf2d-ea0bf18328d4",
   "metadata": {},
   "outputs": [],
   "source": [
    "import os\n",
    "import pyreadr"
   ]
  },
  {
   "cell_type": "code",
   "execution_count": 2,
   "id": "3eaa3cd8-3371-4411-90fa-54e03b065fc5",
   "metadata": {},
   "outputs": [],
   "source": [
    "# Set the working directory\n",
    "os.chdir(\"/research/groups/greengrp/home/spoudel1/GreenLab_Projects/Caitlin/Figure4_03182025_all_cohorts/panelB_F\")\n",
    "\n",
    "# Load the gene_expr_df.Rda file\n",
    "result_gene_expr = pyreadr.read_r(\"gene_expr_df.Rda\")\n",
    "# If the .Rda file contains a single object, extract it like this:\n",
    "gene_expr_df = result_gene_expr[next(iter(result_gene_expr))]\n",
    "# print(\"Loaded gene_expr_df with objects:\", list(result_gene_expr.keys()))\n"
   ]
  },
  {
   "cell_type": "code",
   "execution_count": 3,
   "id": "d23acf2e-d781-4299-867c-9011d0866f36",
   "metadata": {},
   "outputs": [],
   "source": [
    "\n",
    "# Load the TCGA.PANCAN.sample_type.df.Rda file\n",
    "result_sample_type = pyreadr.read_r(\"/research_jude/rgs01_jude/groups/greengrp/home/spoudel1/GreenLab_Projects/Caitlin/Figure4_03182025_all_cohorts/fetch_tcga/tcga_data/TCGA.PANCAN.sample_type.df.Rda\")\n",
    "TCGA_PANCAN_sample_type_df = result_sample_type[next(iter(result_sample_type))]\n",
    "# print(\"Loaded TCGA.PANCAN.sample_type.df with objects:\", list(result_sample_type.keys()))\n"
   ]
  },
  {
   "cell_type": "code",
   "execution_count": 8,
   "id": "7655f713-d989-4e3c-9cfb-9e13fd3b9b21",
   "metadata": {},
   "outputs": [
    {
     "data": {
      "text/html": [
       "<div>\n",
       "<style scoped>\n",
       "    .dataframe tbody tr th:only-of-type {\n",
       "        vertical-align: middle;\n",
       "    }\n",
       "\n",
       "    .dataframe tbody tr th {\n",
       "        vertical-align: top;\n",
       "    }\n",
       "\n",
       "    .dataframe thead th {\n",
       "        text-align: right;\n",
       "    }\n",
       "</style>\n",
       "<table border=\"1\" class=\"dataframe\">\n",
       "  <thead>\n",
       "    <tr style=\"text-align: right;\">\n",
       "      <th></th>\n",
       "      <th>PRF1</th>\n",
       "      <th>GZMA</th>\n",
       "      <th>Sample_name</th>\n",
       "    </tr>\n",
       "  </thead>\n",
       "  <tbody>\n",
       "    <tr>\n",
       "      <th>0</th>\n",
       "      <td>-2.474302</td>\n",
       "      <td>-3.265196</td>\n",
       "      <td>TCGA-61-1910-01</td>\n",
       "    </tr>\n",
       "    <tr>\n",
       "      <th>1</th>\n",
       "      <td>-1.649002</td>\n",
       "      <td>-0.974496</td>\n",
       "      <td>TCGA-61-1728-01</td>\n",
       "    </tr>\n",
       "    <tr>\n",
       "      <th>2</th>\n",
       "      <td>-0.644402</td>\n",
       "      <td>0.643004</td>\n",
       "      <td>TCGA-09-1666-01</td>\n",
       "    </tr>\n",
       "    <tr>\n",
       "      <th>3</th>\n",
       "      <td>-0.586202</td>\n",
       "      <td>0.106604</td>\n",
       "      <td>TCGA-24-1469-01</td>\n",
       "    </tr>\n",
       "    <tr>\n",
       "      <th>4</th>\n",
       "      <td>1.091298</td>\n",
       "      <td>1.643104</td>\n",
       "      <td>TCGA-04-1348-01</td>\n",
       "    </tr>\n",
       "    <tr>\n",
       "      <th>...</th>\n",
       "      <td>...</td>\n",
       "      <td>...</td>\n",
       "      <td>...</td>\n",
       "    </tr>\n",
       "    <tr>\n",
       "      <th>12719</th>\n",
       "      <td>1.507098</td>\n",
       "      <td>3.200704</td>\n",
       "      <td>TCGA-AA-3489-11</td>\n",
       "    </tr>\n",
       "    <tr>\n",
       "      <th>12720</th>\n",
       "      <td>-1.664802</td>\n",
       "      <td>0.779804</td>\n",
       "      <td>TCGA-DM-A1D4-01</td>\n",
       "    </tr>\n",
       "    <tr>\n",
       "      <th>12721</th>\n",
       "      <td>-1.020902</td>\n",
       "      <td>-0.451296</td>\n",
       "      <td>TCGA-QG-A5YV-01</td>\n",
       "    </tr>\n",
       "    <tr>\n",
       "      <th>12722</th>\n",
       "      <td>-0.373402</td>\n",
       "      <td>1.047504</td>\n",
       "      <td>TCGA-CA-5796-01</td>\n",
       "    </tr>\n",
       "    <tr>\n",
       "      <th>12723</th>\n",
       "      <td>-0.749702</td>\n",
       "      <td>-0.346496</td>\n",
       "      <td>TCGA-G4-6626-01</td>\n",
       "    </tr>\n",
       "  </tbody>\n",
       "</table>\n",
       "<p>12724 rows × 3 columns</p>\n",
       "</div>"
      ],
      "text/plain": [
       "           PRF1      GZMA      Sample_name\n",
       "0     -2.474302 -3.265196  TCGA-61-1910-01\n",
       "1     -1.649002 -0.974496  TCGA-61-1728-01\n",
       "2     -0.644402  0.643004  TCGA-09-1666-01\n",
       "3     -0.586202  0.106604  TCGA-24-1469-01\n",
       "4      1.091298  1.643104  TCGA-04-1348-01\n",
       "...         ...       ...              ...\n",
       "12719  1.507098  3.200704  TCGA-AA-3489-11\n",
       "12720 -1.664802  0.779804  TCGA-DM-A1D4-01\n",
       "12721 -1.020902 -0.451296  TCGA-QG-A5YV-01\n",
       "12722 -0.373402  1.047504  TCGA-CA-5796-01\n",
       "12723 -0.749702 -0.346496  TCGA-G4-6626-01\n",
       "\n",
       "[12724 rows x 3 columns]"
      ]
     },
     "execution_count": 8,
     "metadata": {},
     "output_type": "execute_result"
    }
   ],
   "source": [
    "gene_expr_df"
   ]
  },
  {
   "cell_type": "code",
   "execution_count": 7,
   "id": "69051eb4-84bc-463a-8b88-6640a986ffad",
   "metadata": {},
   "outputs": [
    {
     "data": {
      "text/plain": [
       "10459"
      ]
     },
     "execution_count": 7,
     "metadata": {},
     "output_type": "execute_result"
    }
   ],
   "source": [
    "len(gene_expr_df.Sample_name.unique())"
   ]
  },
  {
   "cell_type": "code",
   "execution_count": 10,
   "id": "7dcfce54-8554-42b5-a7d8-6d20e80dbc26",
   "metadata": {},
   "outputs": [
    {
     "data": {
      "text/plain": [
       "12804"
      ]
     },
     "execution_count": 10,
     "metadata": {},
     "output_type": "execute_result"
    }
   ],
   "source": [
    "len(TCGA_PANCAN_sample_type_df.Sample_name.unique())"
   ]
  },
  {
   "cell_type": "code",
   "execution_count": 11,
   "id": "08aca315-063d-47ac-b9a9-0462e765f1ac",
   "metadata": {},
   "outputs": [
    {
     "data": {
      "text/plain": [
       "(12804, 4)"
      ]
     },
     "execution_count": 11,
     "metadata": {},
     "output_type": "execute_result"
    }
   ],
   "source": [
    "TCGA_PANCAN_sample_type_df.shape"
   ]
  },
  {
   "cell_type": "code",
   "execution_count": 12,
   "id": "edce7c8a-be48-4029-9d6e-e13d4b850a1e",
   "metadata": {},
   "outputs": [
    {
     "name": "stdout",
     "output_type": "stream",
     "text": [
      "Duplicate records based on 'Sample_name':\n",
      "           PRF1      GZMA      Sample_name\n",
      "914   -2.870402 -2.856196  TCGA-E1-5319-01\n",
      "915   -1.675502 -2.526296  TCGA-HT-7693-01\n",
      "916   -0.716702 -0.515996  TCGA-CS-6665-01\n",
      "917   -3.918302 -4.492796  TCGA-S9-A7J2-01\n",
      "918    0.038398  0.326104  TCGA-FG-A6J3-01\n",
      "...         ...       ...              ...\n",
      "12719  1.507098  3.200704  TCGA-AA-3489-11\n",
      "12720 -1.664802  0.779804  TCGA-DM-A1D4-01\n",
      "12721 -1.020902 -0.451296  TCGA-QG-A5YV-01\n",
      "12722 -0.373402  1.047504  TCGA-CA-5796-01\n",
      "12723 -0.749702 -0.346496  TCGA-G4-6626-01\n",
      "\n",
      "[4530 rows x 3 columns]\n"
     ]
    }
   ],
   "source": [
    "# Check for duplicate rows based on the \"Sample_name\" column\n",
    "duplicates = gene_expr_df[gene_expr_df.duplicated(subset='Sample_name', keep=False)]\n",
    "print(\"Duplicate records based on 'Sample_name':\")\n",
    "print(duplicates)"
   ]
  },
  {
   "cell_type": "code",
   "execution_count": 13,
   "id": "78e6a77a-1b57-417f-8692-7c6c1241506f",
   "metadata": {},
   "outputs": [
    {
     "name": "stdout",
     "output_type": "stream",
     "text": [
      "\n",
      "Duplicate counts per 'Sample_name':\n",
      "TCGA-D5-6531-01    2\n",
      "TCGA-22-5474-01    2\n",
      "TCGA-86-8669-01    2\n",
      "TCGA-22-5485-01    2\n",
      "TCGA-91-6829-01    2\n",
      "                  ..\n",
      "TCGA-CS-6186-01    2\n",
      "TCGA-DH-5141-01    2\n",
      "TCGA-TQ-A7RN-01    2\n",
      "TCGA-DH-5142-01    2\n",
      "TCGA-HW-8321-01    2\n",
      "Name: Sample_name, Length: 2265, dtype: int64\n"
     ]
    }
   ],
   "source": [
    "# Alternatively, you can also see the count of duplicates for each sample:\n",
    "duplicate_counts = gene_expr_df['Sample_name'].value_counts()\n",
    "duplicate_counts = duplicate_counts[duplicate_counts > 1]\n",
    "print(\"\\nDuplicate counts per 'Sample_name':\")\n",
    "print(duplicate_counts)"
   ]
  },
  {
   "cell_type": "code",
   "execution_count": 14,
   "id": "db2fef9e-bedf-4dd7-9c1a-401be0048e71",
   "metadata": {},
   "outputs": [
    {
     "data": {
      "text/html": [
       "<div>\n",
       "<style scoped>\n",
       "    .dataframe tbody tr th:only-of-type {\n",
       "        vertical-align: middle;\n",
       "    }\n",
       "\n",
       "    .dataframe tbody tr th {\n",
       "        vertical-align: top;\n",
       "    }\n",
       "\n",
       "    .dataframe thead th {\n",
       "        text-align: right;\n",
       "    }\n",
       "</style>\n",
       "<table border=\"1\" class=\"dataframe\">\n",
       "  <thead>\n",
       "    <tr style=\"text-align: right;\">\n",
       "      <th></th>\n",
       "      <th>PRF1</th>\n",
       "      <th>GZMA</th>\n",
       "      <th>Sample_name</th>\n",
       "    </tr>\n",
       "  </thead>\n",
       "  <tbody>\n",
       "    <tr>\n",
       "      <th>1958</th>\n",
       "      <td>-0.110328</td>\n",
       "      <td>5.056897</td>\n",
       "      <td>TCGA-D5-6531-01</td>\n",
       "    </tr>\n",
       "    <tr>\n",
       "      <th>12541</th>\n",
       "      <td>1.220498</td>\n",
       "      <td>0.627804</td>\n",
       "      <td>TCGA-D5-6531-01</td>\n",
       "    </tr>\n",
       "  </tbody>\n",
       "</table>\n",
       "</div>"
      ],
      "text/plain": [
       "           PRF1      GZMA      Sample_name\n",
       "1958  -0.110328  5.056897  TCGA-D5-6531-01\n",
       "12541  1.220498  0.627804  TCGA-D5-6531-01"
      ]
     },
     "execution_count": 14,
     "metadata": {},
     "output_type": "execute_result"
    }
   ],
   "source": [
    "gene_expr_df[gene_expr_df['Sample_name'] == \"TCGA-D5-6531-01\"]"
   ]
  },
  {
   "cell_type": "code",
   "execution_count": 5,
   "id": "f04588d9-9e9f-47d4-98ee-3cf482690b15",
   "metadata": {},
   "outputs": [],
   "source": [
    "# Set the working directory\n",
    "\n",
    "# Load the gene_expr_df.Rda file\n",
    "result_gene_expr = pyreadr.read_r(\"/research_jude/rgs01_jude/groups/greengrp/home/spoudel1/GreenLab_Projects/Caitlin/publish_fig/tcga_data/gene_expr_df.Rda\")\n",
    "# If the .Rda file contains a single object, extract it like this:\n",
    "gene_expr_df = result_gene_expr[next(iter(result_gene_expr))]\n",
    "# print(\"Loaded gene_expr_df with objects:\", list(result_gene_expr.keys()))\n"
   ]
  },
  {
   "cell_type": "code",
   "execution_count": 6,
   "id": "4d529e2e-dbe2-4980-b108-5ace05c32c04",
   "metadata": {},
   "outputs": [
    {
     "name": "stdout",
     "output_type": "stream",
     "text": [
      "Duplicate records based on 'Sample_name':\n",
      "Empty DataFrame\n",
      "Columns: [PRF1, GZMB, Sample_name]\n",
      "Index: []\n"
     ]
    }
   ],
   "source": [
    "# Check for duplicate rows based on the \"Sample_name\" column\n",
    "duplicates = gene_expr_df[gene_expr_df.duplicated(subset='Sample_name', keep=False)]\n",
    "print(\"Duplicate records based on 'Sample_name':\")\n",
    "print(duplicates)"
   ]
  },
  {
   "cell_type": "code",
   "execution_count": 7,
   "id": "189e117a-680f-4540-a6bb-a18e2b55aee5",
   "metadata": {},
   "outputs": [
    {
     "data": {
      "text/html": [
       "<div>\n",
       "<style scoped>\n",
       "    .dataframe tbody tr th:only-of-type {\n",
       "        vertical-align: middle;\n",
       "    }\n",
       "\n",
       "    .dataframe tbody tr th {\n",
       "        vertical-align: top;\n",
       "    }\n",
       "\n",
       "    .dataframe thead th {\n",
       "        text-align: right;\n",
       "    }\n",
       "</style>\n",
       "<table border=\"1\" class=\"dataframe\">\n",
       "  <thead>\n",
       "    <tr style=\"text-align: right;\">\n",
       "      <th></th>\n",
       "      <th>PRF1</th>\n",
       "      <th>GZMB</th>\n",
       "      <th>Sample_name</th>\n",
       "    </tr>\n",
       "  </thead>\n",
       "  <tbody>\n",
       "    <tr>\n",
       "      <th>0</th>\n",
       "      <td>-2.474302</td>\n",
       "      <td>-2.402249</td>\n",
       "      <td>TCGA-61-1910-01</td>\n",
       "    </tr>\n",
       "    <tr>\n",
       "      <th>1</th>\n",
       "      <td>-1.649002</td>\n",
       "      <td>-0.335749</td>\n",
       "      <td>TCGA-61-1728-01</td>\n",
       "    </tr>\n",
       "    <tr>\n",
       "      <th>2</th>\n",
       "      <td>-0.644402</td>\n",
       "      <td>0.137751</td>\n",
       "      <td>TCGA-09-1666-01</td>\n",
       "    </tr>\n",
       "    <tr>\n",
       "      <th>3</th>\n",
       "      <td>-0.586202</td>\n",
       "      <td>1.163251</td>\n",
       "      <td>TCGA-24-1469-01</td>\n",
       "    </tr>\n",
       "    <tr>\n",
       "      <th>4</th>\n",
       "      <td>1.091298</td>\n",
       "      <td>2.627951</td>\n",
       "      <td>TCGA-04-1348-01</td>\n",
       "    </tr>\n",
       "    <tr>\n",
       "      <th>...</th>\n",
       "      <td>...</td>\n",
       "      <td>...</td>\n",
       "      <td>...</td>\n",
       "    </tr>\n",
       "    <tr>\n",
       "      <th>10454</th>\n",
       "      <td>1.507098</td>\n",
       "      <td>2.813551</td>\n",
       "      <td>TCGA-AA-3489-11</td>\n",
       "    </tr>\n",
       "    <tr>\n",
       "      <th>10455</th>\n",
       "      <td>-1.664802</td>\n",
       "      <td>1.755251</td>\n",
       "      <td>TCGA-DM-A1D4-01</td>\n",
       "    </tr>\n",
       "    <tr>\n",
       "      <th>10456</th>\n",
       "      <td>-1.020902</td>\n",
       "      <td>3.541751</td>\n",
       "      <td>TCGA-QG-A5YV-01</td>\n",
       "    </tr>\n",
       "    <tr>\n",
       "      <th>10457</th>\n",
       "      <td>-0.373402</td>\n",
       "      <td>-0.944149</td>\n",
       "      <td>TCGA-CA-5796-01</td>\n",
       "    </tr>\n",
       "    <tr>\n",
       "      <th>10458</th>\n",
       "      <td>-0.749702</td>\n",
       "      <td>4.499151</td>\n",
       "      <td>TCGA-G4-6626-01</td>\n",
       "    </tr>\n",
       "  </tbody>\n",
       "</table>\n",
       "<p>10459 rows × 3 columns</p>\n",
       "</div>"
      ],
      "text/plain": [
       "           PRF1      GZMB      Sample_name\n",
       "0     -2.474302 -2.402249  TCGA-61-1910-01\n",
       "1     -1.649002 -0.335749  TCGA-61-1728-01\n",
       "2     -0.644402  0.137751  TCGA-09-1666-01\n",
       "3     -0.586202  1.163251  TCGA-24-1469-01\n",
       "4      1.091298  2.627951  TCGA-04-1348-01\n",
       "...         ...       ...              ...\n",
       "10454  1.507098  2.813551  TCGA-AA-3489-11\n",
       "10455 -1.664802  1.755251  TCGA-DM-A1D4-01\n",
       "10456 -1.020902  3.541751  TCGA-QG-A5YV-01\n",
       "10457 -0.373402 -0.944149  TCGA-CA-5796-01\n",
       "10458 -0.749702  4.499151  TCGA-G4-6626-01\n",
       "\n",
       "[10459 rows x 3 columns]"
      ]
     },
     "execution_count": 7,
     "metadata": {},
     "output_type": "execute_result"
    }
   ],
   "source": [
    "gene_expr_df"
   ]
  },
  {
   "cell_type": "code",
   "execution_count": null,
   "id": "408643c0-3e94-46ba-8211-d452de666fb3",
   "metadata": {},
   "outputs": [],
   "source": []
  }
 ],
 "metadata": {
  "kernelspec": {
   "display_name": "Python 3 (ipykernel)",
   "language": "python",
   "name": "python3"
  },
  "language_info": {
   "codemirror_mode": {
    "name": "ipython",
    "version": 3
   },
   "file_extension": ".py",
   "mimetype": "text/x-python",
   "name": "python",
   "nbconvert_exporter": "python",
   "pygments_lexer": "ipython3",
   "version": "3.9.18"
  }
 },
 "nbformat": 4,
 "nbformat_minor": 5
}
